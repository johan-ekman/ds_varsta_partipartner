{
 "cells": [
  {
   "cell_type": "code",
   "execution_count": 1,
   "metadata": {},
   "outputs": [],
   "source": [
    "import pandas as pd\n",
    "import re\n",
    "\n",
    "import os\n",
    "\n",
    "import matplotlib.pyplot as plt\n",
    "import seaborn as sns\n",
    "%matplotlib inline"
   ]
  },
  {
   "cell_type": "markdown",
   "metadata": {},
   "source": [
    "Januari 2019\n",
    "\n",
    "Reporter: Samuel Åsgård\n",
    "\n",
    "I denna fil kontrolleras vilket parti som är respektive partis \"sämsta\" samarbetspartner. Bakgrunden är att det är ett nytt regeringsbygge på G (får se ifall det håller) som troligen spikas på fredag. I detta bygge ska S samarbeta med C och L i budgetarbetet. Vi ställde oss därför hur lukerativa sådana samarbeten egentligen är. **Hur ser det ut för samrbeten mellan C och S, eller mellan L och S ifall man kollar i kommunerna?**\n",
    "\n",
    "Koden bygger från början på det som arbetades fram inför valet 2018, och sedan bearbetades i och med reporter Samuels jobb i slutet av oktober 2018 (ifall MP straffades hårdare i samarbeten med Allianspartier eller med vänsterpartier, se mappen \"mp_blockstyren\" under 2018). \n",
    "\n",
    "Resultatet blev [förstauppslaget i tidning nr 3 2019](https://dagenssamhalle.e-pages.pub/titles/dagenssamhalle/8599/publications/362/pages/2), och finns [som webbartikel här](https://dagenssamhalle.se/nyhet/centern-tappar-pa-mittensamarbete-25832). Liberalerna tjänar på samarbeten med S i kommunerna, i varje fall jämfört med ifall de samarbetar med övriga borgerliga partier. Centerpartiet gör det inte. Samarbete med S straffar sig jämfört samarbete med övriga borgerliga."
   ]
  },
  {
   "cell_type": "markdown",
   "metadata": {},
   "source": [
    "Men först måste data hämats från Valmyndigheten."
   ]
  },
  {
   "cell_type": "markdown",
   "metadata": {},
   "source": [
    "### Hämta data"
   ]
  },
  {
   "cell_type": "markdown",
   "metadata": {},
   "source": [
    "Skapa relevanta mappar:"
   ]
  },
  {
   "cell_type": "code",
   "execution_count": 2,
   "metadata": {},
   "outputs": [],
   "source": [
    "from startup_tools import folder_maker\n",
    "folder_maker(years=['2010','2014','2018'])"
   ]
  },
  {
   "cell_type": "markdown",
   "metadata": {},
   "source": [
    "Hämta alla grundfiler (xml-format) från Valmyndigheten. Kan ta upp till ett par minuter:"
   ]
  },
  {
   "cell_type": "code",
   "execution_count": 3,
   "metadata": {},
   "outputs": [
    {
     "name": "stdout",
     "output_type": "stream",
     "text": [
      "CPU times: user 5.05 s, sys: 2.53 s, total: 7.58 s\n",
      "Wall time: 48 s\n"
     ]
    }
   ],
   "source": [
    "%%time\n",
    "from startup_tools import xml_data_fetcher\n",
    "xml_data_fetcher(count_type='slutresultat')"
   ]
  },
  {
   "cell_type": "markdown",
   "metadata": {},
   "source": [
    "Extrahera och formattera data:"
   ]
  },
  {
   "cell_type": "code",
   "execution_count": 4,
   "metadata": {},
   "outputs": [],
   "source": [
    "from startup_tools import ExtractData\n",
    "E = ExtractData()"
   ]
  },
  {
   "cell_type": "code",
   "execution_count": 5,
   "metadata": {},
   "outputs": [],
   "source": [
    "years = ['2010','2014','2018']\n",
    "\n",
    "for year in years:\n",
    "    E.fast_elec_calc(year=year,count_type=\"slutresultat\")\n",
    "    E.fast_particip_calc(year=year,count_type=\"slutresultat\")\n",
    "    #E.muni_elec_meta_data(year=year)\n",
    "\n",
    "E.all_parties(count_type=\"slutresultat\")\n",
    "E.macro_results(count_type=\"slutresultat\") "
   ]
  },
  {
   "cell_type": "markdown",
   "metadata": {},
   "source": [
    "### Beräkningar"
   ]
  },
  {
   "cell_type": "code",
   "execution_count": 6,
   "metadata": {},
   "outputs": [],
   "source": [
    "def col_shaper(cols):\n",
    "    \"\"\"Den här funktionen tar våra dataframes kolumner och omformar \\\n",
    "dessa till en dictionary med önskad utformning. Så alla resultat \\\n",
    "från denna funktion vet att varannan kolumn bygger på äldre \\\n",
    "valresultat. Denna funktaion ger varannan kolumn ändelsen \\\n",
    "'_väljarmandat' och varannan '_valresultat' i en dictionary. \\\n",
    "Se cellen direkt nedanför för exempel.\"\"\"\n",
    "    \n",
    "    # det är endast de kolumner med valresultatsdata som ska formatteras, \n",
    "    # dessa har alltid en årsändelse, t ex \"mandat_2006\"\n",
    "    formatted_cols = [col for col in cols if '_20' in col]\n",
    "    \n",
    "    # De övriga ska inte formatteras\n",
    "    old_cols = [col for col in cols if '_20' not in col]\n",
    "    \n",
    "    # sortera kolumnerna som ska formatteras\n",
    "    formatted_cols.sort()\n",
    "    \n",
    "    # spara hur de oformatterade kolumnerna ser ut\n",
    "    olds = formatted_cols.copy()\n",
    "    \n",
    "    # lägg till de kolumner som inte ska formatteras\n",
    "    [olds.append(col) for col in old_cols]\n",
    "    \n",
    "    counter = 1\n",
    "    for i in range(len(formatted_cols)):\n",
    "        # Hitta alla kolumner som har en sifferändelse i sig i \n",
    "        # listan på kolumner som ska formatteras\n",
    "        r = re.findall(\"\\w+(_\\d+)\",formatted_cols[i])[0]\n",
    "        \n",
    "        if counter % 2 != 0:\n",
    "            # Ifall det är 1a, 2a, 3e etc kolumnen, gör såhär:\n",
    "            formatted_cols[i] = formatted_cols[i].replace(r,\"_väljarmandat\")\n",
    "        else:\n",
    "            # annars gör såhär:\n",
    "            formatted_cols[i] = formatted_cols[i].replace(r,\"_valresultat\")\n",
    "        counter += 1\n",
    "    \n",
    "    # Lägg till de kolumner som inte skulle formatteras till listan på de\n",
    "    # formatterade kolumnerna:\n",
    "    [formatted_cols.append(col) for col in old_cols]\n",
    "    \n",
    "    # återge en dictionary på resultat:\n",
    "    return dict(zip(olds,formatted_cols))\n",
    "        "
   ]
  },
  {
   "cell_type": "markdown",
   "metadata": {},
   "source": [
    "Nu till att hämta alla datafiler beräknade data. Och återigen, funktionerna som används är ursprungligen från 2018 års valanalys (se mappen \"valet_2018\", eller på min [github](https://github.com/johan-ekman/valet_2018))."
   ]
  },
  {
   "cell_type": "markdown",
   "metadata": {},
   "source": [
    "**Först fromattera fram en bra grunddata**"
   ]
  },
  {
   "cell_type": "code",
   "execution_count": 8,
   "metadata": {},
   "outputs": [],
   "source": [
    "from util import gov_mandates,block_gov_count\n",
    "\n",
    "# 2006-2010\n",
    "govs=gov_mandates(2006)\n",
    "df_2006_2010 = block_gov_count(govs,\n",
    "                               value='mandat',\n",
    "                               elec_year=2010,\n",
    "                               compare_year=2006,\n",
    "                               research_data=True)\n",
    "df_2006_2010['mandatperiod'] = '2006_2010'\n",
    "\n",
    "\n",
    "# 2010-2014\n",
    "govs=gov_mandates(2010)\n",
    "df_2010_2014 = block_gov_count(govs,\n",
    "                               value='mandat',\n",
    "                               elec_year=2014,\n",
    "                               compare_year=2010,\n",
    "                               research_data=True)\n",
    "df_2010_2014['mandatperiod'] = '2010_2014'\n",
    "\n",
    "\n",
    "# 2014-2018\n",
    "govs=gov_mandates(2014)\n",
    "df_2014_2018 = block_gov_count(govs,\n",
    "                               value='mandat',\n",
    "                               elec_year=2018,\n",
    "                               compare_year=2014,\n",
    "                               research_data=True)\n",
    "df_2014_2018['mandatperiod'] = '2014_2018'\n",
    "\n"
   ]
  },
  {
   "cell_type": "code",
   "execution_count": 9,
   "metadata": {},
   "outputs": [],
   "source": [
    "from util import all_elec_years"
   ]
  },
  {
   "cell_type": "code",
   "execution_count": 10,
   "metadata": {},
   "outputs": [],
   "source": [
    "frames = [df_2006_2010,df_2010_2014,df_2014_2018]"
   ]
  },
  {
   "cell_type": "code",
   "execution_count": 11,
   "metadata": {},
   "outputs": [],
   "source": [
    "alla_perioder = pd.DataFrame()\n",
    "for frame in frames:\n",
    "    # Döp om alla kolumner:\n",
    "    frame.columns = frame.columns.map(col_shaper(frame.columns))\n",
    "    \n",
    "    alla_perioder=pd.concat([alla_perioder,frame])\n",
    "    "
   ]
  },
  {
   "cell_type": "code",
   "execution_count": 12,
   "metadata": {},
   "outputs": [],
   "source": [
    "valresultat=alla_perioder.mandatperiod.unique().tolist()"
   ]
  },
  {
   "cell_type": "code",
   "execution_count": 13,
   "metadata": {},
   "outputs": [
    {
     "data": {
      "text/plain": [
       "['2006_2010', '2010_2014', '2014_2018']"
      ]
     },
     "execution_count": 13,
     "metadata": {},
     "output_type": "execute_result"
    }
   ],
   "source": [
    "valresultat"
   ]
  },
  {
   "cell_type": "markdown",
   "metadata": {},
   "source": [
    "Här endast för att döpa om mandatperioderna efter respektive valår:"
   ]
  },
  {
   "cell_type": "code",
   "execution_count": 14,
   "metadata": {},
   "outputs": [],
   "source": [
    "alla_perioder.mandatperiod=alla_perioder.mandatperiod.map(dict(zip(valresultat,[2006,2010,2014,2018])))"
   ]
  },
  {
   "cell_type": "code",
   "execution_count": 15,
   "metadata": {},
   "outputs": [],
   "source": [
    "res = alla_perioder.loc[:,['kommun',\n",
    "                                'mandatperiod',\n",
    "                                'parti',\n",
    "                                'block',\n",
    "                                'röster_väljarmandat',\n",
    "                                'summa_röster_väljarmandat',\n",
    "                                'röster_valresultat',\n",
    "                                'summa_röster_valresultat']]"
   ]
  },
  {
   "cell_type": "code",
   "execution_count": 16,
   "metadata": {},
   "outputs": [
    {
     "data": {
      "text/html": [
       "<div>\n",
       "<style scoped>\n",
       "    .dataframe tbody tr th:only-of-type {\n",
       "        vertical-align: middle;\n",
       "    }\n",
       "\n",
       "    .dataframe tbody tr th {\n",
       "        vertical-align: top;\n",
       "    }\n",
       "\n",
       "    .dataframe thead th {\n",
       "        text-align: right;\n",
       "    }\n",
       "</style>\n",
       "<table border=\"1\" class=\"dataframe\">\n",
       "  <thead>\n",
       "    <tr style=\"text-align: right;\">\n",
       "      <th></th>\n",
       "      <th>kommun</th>\n",
       "      <th>mandatperiod</th>\n",
       "      <th>parti</th>\n",
       "      <th>block</th>\n",
       "      <th>röster_väljarmandat</th>\n",
       "      <th>summa_röster_väljarmandat</th>\n",
       "      <th>röster_valresultat</th>\n",
       "      <th>summa_röster_valresultat</th>\n",
       "    </tr>\n",
       "  </thead>\n",
       "  <tbody>\n",
       "    <tr>\n",
       "      <th>0</th>\n",
       "      <td>Ale</td>\n",
       "      <td>2006</td>\n",
       "      <td>S</td>\n",
       "      <td>V</td>\n",
       "      <td>6138.0</td>\n",
       "      <td>15784</td>\n",
       "      <td>5986.0</td>\n",
       "      <td>17257</td>\n",
       "    </tr>\n",
       "    <tr>\n",
       "      <th>1</th>\n",
       "      <td>Ale</td>\n",
       "      <td>2006</td>\n",
       "      <td>MP</td>\n",
       "      <td>V</td>\n",
       "      <td>621.0</td>\n",
       "      <td>15784</td>\n",
       "      <td>860.0</td>\n",
       "      <td>17257</td>\n",
       "    </tr>\n",
       "    <tr>\n",
       "      <th>2</th>\n",
       "      <td>Ale</td>\n",
       "      <td>2006</td>\n",
       "      <td>V</td>\n",
       "      <td>V</td>\n",
       "      <td>1131.0</td>\n",
       "      <td>15784</td>\n",
       "      <td>962.0</td>\n",
       "      <td>17257</td>\n",
       "    </tr>\n",
       "    <tr>\n",
       "      <th>3</th>\n",
       "      <td>Alingsås</td>\n",
       "      <td>2006</td>\n",
       "      <td>C</td>\n",
       "      <td>A</td>\n",
       "      <td>1653.0</td>\n",
       "      <td>23273</td>\n",
       "      <td>1310.0</td>\n",
       "      <td>24959</td>\n",
       "    </tr>\n",
       "    <tr>\n",
       "      <th>4</th>\n",
       "      <td>Alingsås</td>\n",
       "      <td>2006</td>\n",
       "      <td>M</td>\n",
       "      <td>A</td>\n",
       "      <td>4343.0</td>\n",
       "      <td>23273</td>\n",
       "      <td>5940.0</td>\n",
       "      <td>24959</td>\n",
       "    </tr>\n",
       "  </tbody>\n",
       "</table>\n",
       "</div>"
      ],
      "text/plain": [
       "     kommun  mandatperiod parti block  röster_väljarmandat  \\\n",
       "0       Ale          2006     S     V               6138.0   \n",
       "1       Ale          2006    MP     V                621.0   \n",
       "2       Ale          2006     V     V               1131.0   \n",
       "3  Alingsås          2006     C     A               1653.0   \n",
       "4  Alingsås          2006     M     A               4343.0   \n",
       "\n",
       "  summa_röster_väljarmandat  röster_valresultat summa_röster_valresultat  \n",
       "0                     15784              5986.0                    17257  \n",
       "1                     15784               860.0                    17257  \n",
       "2                     15784               962.0                    17257  \n",
       "3                     23273              1310.0                    24959  \n",
       "4                     23273              5940.0                    24959  "
      ]
     },
     "execution_count": 16,
     "metadata": {},
     "output_type": "execute_result"
    }
   ],
   "source": [
    "res.head()"
   ]
  },
  {
   "cell_type": "code",
   "execution_count": 17,
   "metadata": {},
   "outputs": [
    {
     "data": {
      "text/plain": [
       "2014    272\n",
       "2006    256\n",
       "2010    253\n",
       "Name: mandatperiod, dtype: int64"
      ]
     },
     "execution_count": 17,
     "metadata": {},
     "output_type": "execute_result"
    }
   ],
   "source": [
    "res[['kommun','mandatperiod']].drop_duplicates().mandatperiod.value_counts()"
   ]
  },
  {
   "cell_type": "markdown",
   "metadata": {},
   "source": [
    "Det är färre än 290 kommuner varje år. Anledningen är att funktionerna filtrerar bort kommuner där endast ett parti styr, och eller ifall det endast är ett samarbetet med ett av riksdagspartierna och ett (eller flera) övriga lokala partier. Styren med endast lokala partier filtreras också bort."
   ]
  },
  {
   "cell_type": "code",
   "execution_count": 18,
   "metadata": {},
   "outputs": [],
   "source": [
    "for col in ['summa_röster_väljarmandat','summa_röster_valresultat']:\n",
    "    res[col] = pd.to_numeric(res[col])"
   ]
  },
  {
   "cell_type": "code",
   "execution_count": 19,
   "metadata": {},
   "outputs": [],
   "source": [
    "def comp(df,party,block=None,procentenheter=True,num_coop=False,mandatperiod=None):\n",
    "    \"\"\"Denna funktion tar tabellen över styren och ett valfritt parti \\\n",
    "som argument. Den återger sedan hur det gått för alla övriga riksdags- \\\n",
    "partier att samarbete med detta parti. Så, till exempel ifall \\\n",
    "party='S' så återges en sorterad lista (pandas series) på de partier \\\n",
    "som samarbetat med det partiet någon gång de senaste tre mandat- \\\n",
    "perioderna, och hur det sedan gått för dem i följande val efter de \\\n",
    "ingått i samarbete. Listan är sorterad efter de partier som straffades \\\n",
    "hårdast av väljarna efter samarbetet.\n",
    "\n",
    "PARAMETERS\n",
    "----------\n",
    "\n",
    "df : bearbetad grunddata\n",
    "\n",
    "party : partiet man vill kolla hur andra partier drabbas av samarbete med\n",
    "\n",
    "block : ifall man vill filtrera fram grunddata efter block\n",
    "\n",
    "\n",
    "Returns: pandas series (float64)\n",
    "    \n",
    "\"\"\"\n",
    "    \n",
    "    partier = ['M','C','L','KD','S','V','MP']\n",
    "\n",
    "    df = df.loc[df['parti'].isin(partier)]\n",
    "    \n",
    "    if block:\n",
    "        df = df.loc[df['block']==block]\n",
    "    if mandatperiod:\n",
    "        df = df.loc[df['mandatperiod']==mandatperiod]\n",
    "    \n",
    "    df = df.drop('block',axis=1)\n",
    "    \n",
    "    tmp = df.loc[df['parti']==party][['kommun','mandatperiod']]\n",
    "    df1 = tmp.merge(df.loc[df['parti']!=party],on=['kommun','mandatperiod'],how='left')\n",
    "    #return df1\n",
    "    tmp = df1.groupby('parti').sum()\n",
    "    \n",
    "    \n",
    "    \n",
    "    tmp['procent_väljarmandat'] = ((tmp['röster_väljarmandat'] / tmp['summa_röster_väljarmandat'])*100).round(2)\n",
    "    tmp['procent_valresultat'] = ((tmp['röster_valresultat'] / tmp['summa_röster_valresultat'])*100).round(2)\n",
    "\n",
    "    if procentenheter:\n",
    "        tmp[party] = tmp['procent_valresultat'] - tmp['procent_väljarmandat']\n",
    "    else:\n",
    "        tmp[party] = (((tmp['procent_valresultat'] / tmp['procent_väljarmandat'])-1)*100).round(2)\n",
    "        \n",
    "    if num_coop:\n",
    "        return df.parti.value_counts()\\\n",
    "                 .reset_index()\\\n",
    "                 .rename(columns={'index':'parti',\n",
    "                                  'parti':party})\\\n",
    "                 .set_index('parti')[party]\n",
    "    else:\n",
    "        return tmp[party]\n",
    "    "
   ]
  },
  {
   "cell_type": "code",
   "execution_count": 20,
   "metadata": {},
   "outputs": [],
   "source": [
    "test = comp(res,'S')"
   ]
  },
  {
   "cell_type": "code",
   "execution_count": 21,
   "metadata": {},
   "outputs": [
    {
     "data": {
      "text/plain": [
       "parti\n",
       "C     16.02\n",
       "KD    14.44\n",
       "L      1.71\n",
       "M     -3.67\n",
       "MP   -40.61\n",
       "S    -10.39\n",
       "Name: V, dtype: float64"
      ]
     },
     "execution_count": 21,
     "metadata": {},
     "output_type": "execute_result"
    }
   ],
   "source": [
    "comp(res,'V',mandatperiod=2014,procentenheter=False)"
   ]
  },
  {
   "cell_type": "code",
   "execution_count": 22,
   "metadata": {},
   "outputs": [],
   "source": [
    "partier = ['M', 'C', 'L', 'KD', 'S', 'V', 'MP']"
   ]
  },
  {
   "cell_type": "code",
   "execution_count": 23,
   "metadata": {},
   "outputs": [],
   "source": [
    "tmp = pd.DataFrame(index=partier)\n",
    "for parti in partier:\n",
    "    tmp = pd.concat([tmp,comp(res,parti,procentenheter=False,mandatperiod=2006)],axis=1)"
   ]
  },
  {
   "cell_type": "code",
   "execution_count": 24,
   "metadata": {},
   "outputs": [
    {
     "data": {
      "text/html": [
       "<div>\n",
       "<style scoped>\n",
       "    .dataframe tbody tr th:only-of-type {\n",
       "        vertical-align: middle;\n",
       "    }\n",
       "\n",
       "    .dataframe tbody tr th {\n",
       "        vertical-align: top;\n",
       "    }\n",
       "\n",
       "    .dataframe thead th {\n",
       "        text-align: right;\n",
       "    }\n",
       "</style>\n",
       "<table border=\"1\" class=\"dataframe\">\n",
       "  <thead>\n",
       "    <tr style=\"text-align: right;\">\n",
       "      <th></th>\n",
       "      <th>M</th>\n",
       "      <th>C</th>\n",
       "      <th>L</th>\n",
       "      <th>KD</th>\n",
       "      <th>S</th>\n",
       "      <th>V</th>\n",
       "      <th>MP</th>\n",
       "    </tr>\n",
       "  </thead>\n",
       "  <tbody>\n",
       "    <tr>\n",
       "      <th>M</th>\n",
       "      <td>NaN</td>\n",
       "      <td>7.21</td>\n",
       "      <td>6.19</td>\n",
       "      <td>6.42</td>\n",
       "      <td>11.01</td>\n",
       "      <td>4.23</td>\n",
       "      <td>16.54</td>\n",
       "    </tr>\n",
       "    <tr>\n",
       "      <th>C</th>\n",
       "      <td>-15.72</td>\n",
       "      <td>NaN</td>\n",
       "      <td>-16.24</td>\n",
       "      <td>-16.43</td>\n",
       "      <td>-18.13</td>\n",
       "      <td>-9.90</td>\n",
       "      <td>-20.60</td>\n",
       "    </tr>\n",
       "    <tr>\n",
       "      <th>L</th>\n",
       "      <td>-1.82</td>\n",
       "      <td>-2.44</td>\n",
       "      <td>NaN</td>\n",
       "      <td>-1.86</td>\n",
       "      <td>-0.84</td>\n",
       "      <td>0.23</td>\n",
       "      <td>-7.51</td>\n",
       "    </tr>\n",
       "    <tr>\n",
       "      <th>KD</th>\n",
       "      <td>-22.51</td>\n",
       "      <td>-22.77</td>\n",
       "      <td>-22.65</td>\n",
       "      <td>NaN</td>\n",
       "      <td>-21.15</td>\n",
       "      <td>-32.79</td>\n",
       "      <td>-24.84</td>\n",
       "    </tr>\n",
       "    <tr>\n",
       "      <th>S</th>\n",
       "      <td>-5.38</td>\n",
       "      <td>-5.80</td>\n",
       "      <td>-7.85</td>\n",
       "      <td>-8.21</td>\n",
       "      <td>NaN</td>\n",
       "      <td>-6.40</td>\n",
       "      <td>-7.53</td>\n",
       "    </tr>\n",
       "    <tr>\n",
       "      <th>V</th>\n",
       "      <td>-29.25</td>\n",
       "      <td>-27.85</td>\n",
       "      <td>-24.43</td>\n",
       "      <td>-44.59</td>\n",
       "      <td>-10.11</td>\n",
       "      <td>NaN</td>\n",
       "      <td>-9.64</td>\n",
       "    </tr>\n",
       "    <tr>\n",
       "      <th>MP</th>\n",
       "      <td>29.78</td>\n",
       "      <td>30.69</td>\n",
       "      <td>29.46</td>\n",
       "      <td>29.88</td>\n",
       "      <td>31.68</td>\n",
       "      <td>31.37</td>\n",
       "      <td>NaN</td>\n",
       "    </tr>\n",
       "  </tbody>\n",
       "</table>\n",
       "</div>"
      ],
      "text/plain": [
       "        M      C      L     KD      S      V     MP\n",
       "M     NaN   7.21   6.19   6.42  11.01   4.23  16.54\n",
       "C  -15.72    NaN -16.24 -16.43 -18.13  -9.90 -20.60\n",
       "L   -1.82  -2.44    NaN  -1.86  -0.84   0.23  -7.51\n",
       "KD -22.51 -22.77 -22.65    NaN -21.15 -32.79 -24.84\n",
       "S   -5.38  -5.80  -7.85  -8.21    NaN  -6.40  -7.53\n",
       "V  -29.25 -27.85 -24.43 -44.59 -10.11    NaN  -9.64\n",
       "MP  29.78  30.69  29.46  29.88  31.68  31.37    NaN"
      ]
     },
     "execution_count": 24,
     "metadata": {},
     "output_type": "execute_result"
    }
   ],
   "source": [
    "tmp.loc[partier,:]"
   ]
  },
  {
   "cell_type": "code",
   "execution_count": 25,
   "metadata": {},
   "outputs": [
    {
     "data": {
      "text/plain": [
       "<matplotlib.axes._subplots.AxesSubplot at 0x12b074a90>"
      ]
     },
     "execution_count": 25,
     "metadata": {},
     "output_type": "execute_result"
    },
    {
     "data": {
      "image/png": "[encoded data removed]",
      "text/plain": [
       "<Figure size 432x288 with 2 Axes>"
      ]
     },
     "metadata": {
      "needs_background": "light"
     },
     "output_type": "display_data"
    }
   ],
   "source": [
    "sns.heatmap(tmp)"
   ]
  },
  {
   "cell_type": "code",
   "execution_count": 26,
   "metadata": {},
   "outputs": [],
   "source": [
    "from pandas import ExcelWriter"
   ]
  },
  {
   "cell_type": "code",
   "execution_count": 27,
   "metadata": {},
   "outputs": [],
   "source": [
    "os.makedirs('res')"
   ]
  },
  {
   "cell_type": "code",
   "execution_count": 28,
   "metadata": {},
   "outputs": [],
   "source": [
    "writer = ExcelWriter('res/sämsta_partnern_andelstapp.xlsx')"
   ]
  },
  {
   "cell_type": "code",
   "execution_count": 29,
   "metadata": {},
   "outputs": [],
   "source": [
    "tmp = pd.DataFrame(index=partier)\n",
    "for parti in partier:\n",
    "    tmp = pd.concat([tmp,comp(res,parti,procentenheter=False)],axis=1)\n",
    "tmp.loc[partier,:].to_excel(writer,'i_andelar')"
   ]
  },
  {
   "cell_type": "code",
   "execution_count": 30,
   "metadata": {},
   "outputs": [],
   "source": [
    "tmp = pd.DataFrame(index=partier)\n",
    "for parti in partier:\n",
    "    tmp = pd.concat([tmp,comp(res,parti,procentenheter=True)],axis=1)\n",
    "tmp.loc[partier,:].to_excel(writer,'i_procentenheter')"
   ]
  },
  {
   "cell_type": "code",
   "execution_count": 31,
   "metadata": {},
   "outputs": [],
   "source": [
    "tmp = pd.DataFrame(index=partier)\n",
    "for parti in partier:\n",
    "    tmp = pd.concat([tmp,comp(res,parti,num_coop=True)],axis=1)\n",
    "tmp.loc[partier,:].to_excel(writer,'antal_samarbeten')"
   ]
  },
  {
   "cell_type": "code",
   "execution_count": 32,
   "metadata": {},
   "outputs": [],
   "source": [
    "writer.save()"
   ]
  },
  {
   "cell_type": "code",
   "execution_count": null,
   "metadata": {},
   "outputs": [],
   "source": []
  },
  {
   "cell_type": "code",
   "execution_count": 33,
   "metadata": {},
   "outputs": [],
   "source": [
    "tmp = pd.DataFrame(index=partier)\n",
    "for parti in partier:\n",
    "    tmp = pd.concat([tmp,comp(res,parti,procentenheter=False,block='BL')],axis=1)\n",
    "tmp = tmp.loc[partier,:]"
   ]
  },
  {
   "cell_type": "code",
   "execution_count": 34,
   "metadata": {},
   "outputs": [
    {
     "data": {
      "text/html": [
       "<div>\n",
       "<style scoped>\n",
       "    .dataframe tbody tr th:only-of-type {\n",
       "        vertical-align: middle;\n",
       "    }\n",
       "\n",
       "    .dataframe tbody tr th {\n",
       "        vertical-align: top;\n",
       "    }\n",
       "\n",
       "    .dataframe thead th {\n",
       "        text-align: right;\n",
       "    }\n",
       "</style>\n",
       "<table border=\"1\" class=\"dataframe\">\n",
       "  <thead>\n",
       "    <tr style=\"text-align: right;\">\n",
       "      <th></th>\n",
       "      <th>M</th>\n",
       "      <th>C</th>\n",
       "      <th>L</th>\n",
       "      <th>KD</th>\n",
       "      <th>S</th>\n",
       "      <th>V</th>\n",
       "      <th>MP</th>\n",
       "    </tr>\n",
       "  </thead>\n",
       "  <tbody>\n",
       "    <tr>\n",
       "      <th>M</th>\n",
       "      <td>NaN</td>\n",
       "      <td>-5.51</td>\n",
       "      <td>-5.98</td>\n",
       "      <td>-3.16</td>\n",
       "      <td>-9.03</td>\n",
       "      <td>0.54</td>\n",
       "      <td>-10.64</td>\n",
       "    </tr>\n",
       "    <tr>\n",
       "      <th>C</th>\n",
       "      <td>-0.71</td>\n",
       "      <td>NaN</td>\n",
       "      <td>-0.12</td>\n",
       "      <td>8.81</td>\n",
       "      <td>4.33</td>\n",
       "      <td>6.39</td>\n",
       "      <td>7.83</td>\n",
       "    </tr>\n",
       "    <tr>\n",
       "      <th>L</th>\n",
       "      <td>-17.03</td>\n",
       "      <td>-6.63</td>\n",
       "      <td>NaN</td>\n",
       "      <td>-12.73</td>\n",
       "      <td>-3.14</td>\n",
       "      <td>-14.21</td>\n",
       "      <td>2.77</td>\n",
       "    </tr>\n",
       "    <tr>\n",
       "      <th>KD</th>\n",
       "      <td>-0.53</td>\n",
       "      <td>14.02</td>\n",
       "      <td>8.39</td>\n",
       "      <td>NaN</td>\n",
       "      <td>13.42</td>\n",
       "      <td>0.00</td>\n",
       "      <td>13.98</td>\n",
       "    </tr>\n",
       "    <tr>\n",
       "      <th>S</th>\n",
       "      <td>-8.65</td>\n",
       "      <td>-11.19</td>\n",
       "      <td>-11.77</td>\n",
       "      <td>-11.10</td>\n",
       "      <td>NaN</td>\n",
       "      <td>-11.30</td>\n",
       "      <td>-13.04</td>\n",
       "    </tr>\n",
       "    <tr>\n",
       "      <th>V</th>\n",
       "      <td>-23.68</td>\n",
       "      <td>-1.89</td>\n",
       "      <td>-8.40</td>\n",
       "      <td>-3.39</td>\n",
       "      <td>6.44</td>\n",
       "      <td>NaN</td>\n",
       "      <td>-2.84</td>\n",
       "    </tr>\n",
       "    <tr>\n",
       "      <th>MP</th>\n",
       "      <td>-16.86</td>\n",
       "      <td>-31.61</td>\n",
       "      <td>-27.53</td>\n",
       "      <td>-36.40</td>\n",
       "      <td>-32.30</td>\n",
       "      <td>-30.89</td>\n",
       "      <td>NaN</td>\n",
       "    </tr>\n",
       "  </tbody>\n",
       "</table>\n",
       "</div>"
      ],
      "text/plain": [
       "        M      C      L     KD      S      V     MP\n",
       "M     NaN  -5.51  -5.98  -3.16  -9.03   0.54 -10.64\n",
       "C   -0.71    NaN  -0.12   8.81   4.33   6.39   7.83\n",
       "L  -17.03  -6.63    NaN -12.73  -3.14 -14.21   2.77\n",
       "KD  -0.53  14.02   8.39    NaN  13.42   0.00  13.98\n",
       "S   -8.65 -11.19 -11.77 -11.10    NaN -11.30 -13.04\n",
       "V  -23.68  -1.89  -8.40  -3.39   6.44    NaN  -2.84\n",
       "MP -16.86 -31.61 -27.53 -36.40 -32.30 -30.89    NaN"
      ]
     },
     "execution_count": 34,
     "metadata": {},
     "output_type": "execute_result"
    }
   ],
   "source": [
    "tmp"
   ]
  },
  {
   "cell_type": "code",
   "execution_count": null,
   "metadata": {},
   "outputs": [],
   "source": []
  },
  {
   "cell_type": "code",
   "execution_count": null,
   "metadata": {},
   "outputs": [],
   "source": []
  },
  {
   "cell_type": "markdown",
   "metadata": {},
   "source": [
    "### Testare?"
   ]
  },
  {
   "cell_type": "code",
   "execution_count": 35,
   "metadata": {},
   "outputs": [],
   "source": [
    "def ex(df,\\\n",
    "         party,\\\n",
    "         block=None,\\\n",
    "         procentenheter=True,\\\n",
    "         num_coop=False,\\\n",
    "         mandatperiod=2014,\n",
    "         samarbetspartier=[],\\\n",
    "         munis=False):\n",
    "    \"\"\"Denna funktion tar tabellen över styren och ett valfritt parti \\\n",
    "som argument. Den återger sedan hur det gått för alla övriga riksdags- \\\n",
    "partier att samarbete med detta parti. Så, till exempel ifall \\\n",
    "party='S' så återges en sorterad lista (pandas series) på de partier \\\n",
    "som samarbetat med det partiet någon gång de senaste tre mandat- \\\n",
    "perioderna, och hur det sedan gått för dem i följande val efter de \\\n",
    "ingått i samarbete. Listan är sorterad efter de partier som straffades \\\n",
    "hårdast av väljarna efter samarbetet.\n",
    "\n",
    "PARAMETERS\n",
    "----------\n",
    "\n",
    "df : bearbetad grunddata\n",
    "\n",
    "party : partiet man vill kolla hur andra partier drabbas av samarbete med\n",
    "\n",
    "block : ifall man vill filtrera fram grunddata efter block\n",
    "\n",
    "\n",
    "Returns: pandas series (float64)\n",
    "    \n",
    "\"\"\"\n",
    "    \n",
    "    partier = ['M','C','L','KD','S','V','MP']\n",
    "\n",
    "    df = df.loc[df['parti'].isin(partier)]\n",
    "    \n",
    "    if block:\n",
    "        df = df.loc[df['block']==block]\n",
    "    if mandatperiod:\n",
    "        df = df.loc[df['mandatperiod']==mandatperiod]\n",
    "    \n",
    "    df = df.drop('block',axis=1)\n",
    "    #return df\n",
    "    tmp = df.loc[df['parti']==party][['kommun','mandatperiod']]\n",
    "    df1 = tmp.merge(df.loc[df['parti']!=party],on=['kommun','mandatperiod'],how='left').dropna()\n",
    "    \n",
    "    if samarbetspartier:\n",
    "        samarbetspartier.append('MP')\n",
    "        partier = [x for x in partier if x not in samarbetspartier]\n",
    "        samarbetspartier.remove('MP')\n",
    "        bad_munis = df1.loc[(df1['parti'].isin(partier)),['kommun','mandatperiod']].drop_duplicates().kommun.tolist()\n",
    "        df1 = df1.loc[~df1['kommun'].isin(bad_munis)]\n",
    "        #return df1\n",
    "    \n",
    "    if munis:\n",
    "        return df1\n",
    "    tmp = df1.groupby('parti').sum()\n",
    "    \n",
    "    \n",
    "    \n",
    "    tmp['procent_väljarmandat'] = ((tmp['röster_väljarmandat'] / tmp['summa_röster_väljarmandat'])*100)\n",
    "    tmp['procent_valresultat'] = ((tmp['röster_valresultat'] / tmp['summa_röster_valresultat'])*100)\n",
    "\n",
    "    if procentenheter:\n",
    "        tmp[party] = (tmp['procent_valresultat'] - tmp['procent_väljarmandat']).round(2)\n",
    "    else:\n",
    "        tmp[party] = (((tmp['procent_valresultat'] / tmp['procent_väljarmandat'])-1)*100).round(2)\n",
    "        \n",
    "    if num_coop:\n",
    "        return df.parti.value_counts()\\\n",
    "                 .reset_index()\\\n",
    "                 .rename(columns={'index':'parti',\n",
    "                                  'parti':party})\\\n",
    "                 .set_index('parti')[party]\n",
    "    else:\n",
    "        return tmp[party]\n",
    "    "
   ]
  },
  {
   "cell_type": "code",
   "execution_count": 36,
   "metadata": {},
   "outputs": [],
   "source": [
    "kommunerna = ex(res,\"S\",mandatperiod=2014,samarbetspartier=['C','L'],procentenheter=True,munis=True)"
   ]
  },
  {
   "cell_type": "code",
   "execution_count": 37,
   "metadata": {},
   "outputs": [],
   "source": [
    "kommunerna['procent_väljarmandat'] = ((kommunerna['röster_väljarmandat'] / kommunerna['summa_röster_väljarmandat'])*100)\n",
    "kommunerna['procent_valresultat'] = ((kommunerna['röster_valresultat'] / kommunerna['summa_röster_valresultat'])*100)\n",
    "kommunerna['resultat_2014_2018'] = (kommunerna['procent_valresultat'] - kommunerna['procent_väljarmandat']).round(2)\n"
   ]
  },
  {
   "cell_type": "code",
   "execution_count": 38,
   "metadata": {},
   "outputs": [],
   "source": [
    "munis = kommunerna.kommun.drop_duplicates()"
   ]
  },
  {
   "cell_type": "code",
   "execution_count": 39,
   "metadata": {},
   "outputs": [],
   "source": [
    "munis = res.loc[(res['kommun'].isin(munis)&(res['mandatperiod']==2014))]"
   ]
  },
  {
   "cell_type": "code",
   "execution_count": 40,
   "metadata": {},
   "outputs": [],
   "source": [
    "kolla=munis.kommun.value_counts().reset_index().loc[munis.kommun.value_counts().reset_index()['kommun']==2]['index'].tolist()"
   ]
  },
  {
   "cell_type": "code",
   "execution_count": 41,
   "metadata": {},
   "outputs": [],
   "source": [
    "kolla=munis.loc[(munis.kommun.isin(kolla))&(munis['parti']=='MP'),'kommun'].tolist()"
   ]
  },
  {
   "cell_type": "code",
   "execution_count": 42,
   "metadata": {},
   "outputs": [],
   "source": [
    "bort = munis.loc[(munis.kommun.isin(kolla)),'kommun'].drop_duplicates().tolist()"
   ]
  },
  {
   "cell_type": "code",
   "execution_count": 43,
   "metadata": {},
   "outputs": [],
   "source": [
    "kommunerna = munis.loc[~munis['kommun'].isin(bort)]"
   ]
  },
  {
   "cell_type": "code",
   "execution_count": 44,
   "metadata": {},
   "outputs": [],
   "source": [
    "kommunerna['procent_2014'] = ((kommunerna['röster_väljarmandat'] / kommunerna['summa_röster_väljarmandat'])*100)\n",
    "kommunerna['procent_2018'] = ((kommunerna['röster_valresultat'] / kommunerna['summa_röster_valresultat'])*100)\n",
    "kommunerna['resultat_2014_2018'] = (kommunerna['procent_2018'] - kommunerna['procent_2014']).round(2)\n"
   ]
  },
  {
   "cell_type": "code",
   "execution_count": 45,
   "metadata": {},
   "outputs": [
    {
     "data": {
      "text/plain": [
       "Index(['kommun', 'mandatperiod', 'parti', 'block', 'röster_väljarmandat',\n",
       "       'summa_röster_väljarmandat', 'röster_valresultat',\n",
       "       'summa_röster_valresultat', 'procent_2014', 'procent_2018',\n",
       "       'resultat_2014_2018'],\n",
       "      dtype='object')"
      ]
     },
     "execution_count": 45,
     "metadata": {},
     "output_type": "execute_result"
    }
   ],
   "source": [
    "kommunerna.columns"
   ]
  },
  {
   "cell_type": "code",
   "execution_count": 46,
   "metadata": {},
   "outputs": [],
   "source": [
    "kommunerna.sort_values('resultat_2014_2018',ascending=True).to_excel('res/SCLMP_kommunerna.xlsx',index=False)"
   ]
  },
  {
   "cell_type": "code",
   "execution_count": 47,
   "metadata": {},
   "outputs": [],
   "source": [
    "kommunerna = pd.read_excel('res/SCLMP_kommunerna.xlsx')"
   ]
  },
  {
   "cell_type": "code",
   "execution_count": null,
   "metadata": {},
   "outputs": [],
   "source": []
  },
  {
   "cell_type": "code",
   "execution_count": 48,
   "metadata": {},
   "outputs": [],
   "source": [
    "tmp = pd.DataFrame(index=partier)\n",
    "for parti in partier:\n",
    "    tmp = pd.concat([tmp,ex(res,parti,mandatperiod=2014,procentenheter=True)],axis=1)\n",
    "tmp = tmp.loc[partier,:]"
   ]
  },
  {
   "cell_type": "code",
   "execution_count": 49,
   "metadata": {},
   "outputs": [],
   "source": [
    "tmp.to_excel('res/alla_samarbeten.xlsx')"
   ]
  },
  {
   "cell_type": "code",
   "execution_count": null,
   "metadata": {},
   "outputs": [],
   "source": []
  },
  {
   "cell_type": "code",
   "execution_count": 50,
   "metadata": {},
   "outputs": [],
   "source": [
    "results_CLS = pd.DataFrame()\n",
    "for year in [2006,2010,2014]:\n",
    "    results_CLS[f'S_styrda_kommuner_{year}'] = ex(res,\"S\",mandatperiod=year,samarbetspartier=['C','L'],procentenheter=True)"
   ]
  },
  {
   "cell_type": "code",
   "execution_count": 51,
   "metadata": {},
   "outputs": [
    {
     "data": {
      "text/html": [
       "<div>\n",
       "<style scoped>\n",
       "    .dataframe tbody tr th:only-of-type {\n",
       "        vertical-align: middle;\n",
       "    }\n",
       "\n",
       "    .dataframe tbody tr th {\n",
       "        vertical-align: top;\n",
       "    }\n",
       "\n",
       "    .dataframe thead th {\n",
       "        text-align: right;\n",
       "    }\n",
       "</style>\n",
       "<table border=\"1\" class=\"dataframe\">\n",
       "  <thead>\n",
       "    <tr style=\"text-align: right;\">\n",
       "      <th></th>\n",
       "      <th>S_styrda_kommuner_2006</th>\n",
       "      <th>S_styrda_kommuner_2010</th>\n",
       "      <th>S_styrda_kommuner_2014</th>\n",
       "    </tr>\n",
       "    <tr>\n",
       "      <th>parti</th>\n",
       "      <th></th>\n",
       "      <th></th>\n",
       "      <th></th>\n",
       "    </tr>\n",
       "  </thead>\n",
       "  <tbody>\n",
       "    <tr>\n",
       "      <th>C</th>\n",
       "      <td>-2.86</td>\n",
       "      <td>-1.12</td>\n",
       "      <td>0.87</td>\n",
       "    </tr>\n",
       "    <tr>\n",
       "      <th>L</th>\n",
       "      <td>0.54</td>\n",
       "      <td>-1.16</td>\n",
       "      <td>0.59</td>\n",
       "    </tr>\n",
       "    <tr>\n",
       "      <th>MP</th>\n",
       "      <td>1.27</td>\n",
       "      <td>0.78</td>\n",
       "      <td>-2.83</td>\n",
       "    </tr>\n",
       "  </tbody>\n",
       "</table>\n",
       "</div>"
      ],
      "text/plain": [
       "       S_styrda_kommuner_2006  S_styrda_kommuner_2010  S_styrda_kommuner_2014\n",
       "parti                                                                        \n",
       "C                       -2.86                   -1.12                    0.87\n",
       "L                        0.54                   -1.16                    0.59\n",
       "MP                       1.27                    0.78                   -2.83"
      ]
     },
     "execution_count": 51,
     "metadata": {},
     "output_type": "execute_result"
    }
   ],
   "source": [
    "results_CLS"
   ]
  },
  {
   "cell_type": "code",
   "execution_count": 52,
   "metadata": {},
   "outputs": [],
   "source": [
    "def alla_kommuner(df,\\\n",
    "                  block=None,\\\n",
    "         procentenheter=True,\\\n",
    "         mandatperiod=2014):\n",
    "    \n",
    "    partier = ['M','C','L','KD','S','V','MP']\n",
    "\n",
    "    df = df.loc[df['parti'].isin(partier)]\n",
    "    \n",
    "    df = df.loc[df['mandatperiod']==mandatperiod]\n",
    "    \n",
    "    if block:\n",
    "        df = df.loc[df['block']==block]\n",
    "    \n",
    "    tmp = df.groupby('parti').sum()\n",
    "    \n",
    "    \n",
    "    \n",
    "    tmp['procent_väljarmandat'] = ((tmp['röster_väljarmandat'] / tmp['summa_röster_väljarmandat'])*100)\n",
    "    tmp['procent_valresultat'] = ((tmp['röster_valresultat'] / tmp['summa_röster_valresultat'])*100)\n",
    "\n",
    "    if procentenheter:\n",
    "        tmp[f'resultat_{mandatperiod}'] = (tmp['procent_valresultat'] - tmp['procent_väljarmandat']).round(2)\n",
    "    else:\n",
    "        tmp[f'resultat_{mandatperiod}'] = (((tmp['procent_valresultat'] / tmp['procent_väljarmandat'])-1)*100).round(2)\n",
    "    return tmp[f'resultat_{mandatperiod}']    "
   ]
  },
  {
   "cell_type": "code",
   "execution_count": 53,
   "metadata": {},
   "outputs": [],
   "source": [
    "resultat_styren = pd.DataFrame()\n",
    "for year in [2006,2010,2014]:\n",
    "    resultat_styren[f'alla_styren_{year}'] = alla_kommuner(res,mandatperiod=year,procentenheter=True)"
   ]
  },
  {
   "cell_type": "code",
   "execution_count": 54,
   "metadata": {},
   "outputs": [
    {
     "data": {
      "text/html": [
       "<div>\n",
       "<style scoped>\n",
       "    .dataframe tbody tr th:only-of-type {\n",
       "        vertical-align: middle;\n",
       "    }\n",
       "\n",
       "    .dataframe tbody tr th {\n",
       "        vertical-align: top;\n",
       "    }\n",
       "\n",
       "    .dataframe thead th {\n",
       "        text-align: right;\n",
       "    }\n",
       "</style>\n",
       "<table border=\"1\" class=\"dataframe\">\n",
       "  <thead>\n",
       "    <tr style=\"text-align: right;\">\n",
       "      <th></th>\n",
       "      <th>alla_styren_2006</th>\n",
       "      <th>alla_styren_2010</th>\n",
       "      <th>alla_styren_2014</th>\n",
       "    </tr>\n",
       "    <tr>\n",
       "      <th>parti</th>\n",
       "      <th></th>\n",
       "      <th></th>\n",
       "      <th></th>\n",
       "    </tr>\n",
       "  </thead>\n",
       "  <tbody>\n",
       "    <tr>\n",
       "      <th>C</th>\n",
       "      <td>-1.62</td>\n",
       "      <td>0.03</td>\n",
       "      <td>1.34</td>\n",
       "    </tr>\n",
       "    <tr>\n",
       "      <th>KD</th>\n",
       "      <td>-1.39</td>\n",
       "      <td>-0.53</td>\n",
       "      <td>1.42</td>\n",
       "    </tr>\n",
       "    <tr>\n",
       "      <th>L</th>\n",
       "      <td>-0.15</td>\n",
       "      <td>-1.73</td>\n",
       "      <td>-0.03</td>\n",
       "    </tr>\n",
       "    <tr>\n",
       "      <th>M</th>\n",
       "      <td>1.66</td>\n",
       "      <td>-5.91</td>\n",
       "      <td>-1.45</td>\n",
       "    </tr>\n",
       "    <tr>\n",
       "      <th>MP</th>\n",
       "      <td>1.56</td>\n",
       "      <td>0.55</td>\n",
       "      <td>-3.47</td>\n",
       "    </tr>\n",
       "    <tr>\n",
       "      <th>S</th>\n",
       "      <td>-2.44</td>\n",
       "      <td>-2.99</td>\n",
       "      <td>-3.77</td>\n",
       "    </tr>\n",
       "    <tr>\n",
       "      <th>V</th>\n",
       "      <td>-0.81</td>\n",
       "      <td>1.14</td>\n",
       "      <td>1.72</td>\n",
       "    </tr>\n",
       "  </tbody>\n",
       "</table>\n",
       "</div>"
      ],
      "text/plain": [
       "       alla_styren_2006  alla_styren_2010  alla_styren_2014\n",
       "parti                                                      \n",
       "C                 -1.62              0.03              1.34\n",
       "KD                -1.39             -0.53              1.42\n",
       "L                 -0.15             -1.73             -0.03\n",
       "M                  1.66             -5.91             -1.45\n",
       "MP                 1.56              0.55             -3.47\n",
       "S                 -2.44             -2.99             -3.77\n",
       "V                 -0.81              1.14              1.72"
      ]
     },
     "execution_count": 54,
     "metadata": {},
     "output_type": "execute_result"
    }
   ],
   "source": [
    "resultat_styren"
   ]
  },
  {
   "cell_type": "markdown",
   "metadata": {},
   "source": [
    "Efter block:"
   ]
  },
  {
   "cell_type": "code",
   "execution_count": 55,
   "metadata": {},
   "outputs": [
    {
     "data": {
      "text/html": [
       "<div>\n",
       "<style scoped>\n",
       "    .dataframe tbody tr th:only-of-type {\n",
       "        vertical-align: middle;\n",
       "    }\n",
       "\n",
       "    .dataframe tbody tr th {\n",
       "        vertical-align: top;\n",
       "    }\n",
       "\n",
       "    .dataframe thead th {\n",
       "        text-align: right;\n",
       "    }\n",
       "</style>\n",
       "<table border=\"1\" class=\"dataframe\">\n",
       "  <thead>\n",
       "    <tr style=\"text-align: right;\">\n",
       "      <th></th>\n",
       "      <th>alla_styren_2006</th>\n",
       "      <th>alla_styren_2010</th>\n",
       "      <th>alla_styren_2014</th>\n",
       "    </tr>\n",
       "    <tr>\n",
       "      <th>parti</th>\n",
       "      <th></th>\n",
       "      <th></th>\n",
       "      <th></th>\n",
       "    </tr>\n",
       "  </thead>\n",
       "  <tbody>\n",
       "    <tr>\n",
       "      <th>C</th>\n",
       "      <td>-1.55</td>\n",
       "      <td>0.08</td>\n",
       "      <td>1.55</td>\n",
       "    </tr>\n",
       "    <tr>\n",
       "      <th>KD</th>\n",
       "      <td>-1.40</td>\n",
       "      <td>-0.52</td>\n",
       "      <td>1.50</td>\n",
       "    </tr>\n",
       "    <tr>\n",
       "      <th>L</th>\n",
       "      <td>-0.16</td>\n",
       "      <td>-1.71</td>\n",
       "      <td>-0.13</td>\n",
       "    </tr>\n",
       "    <tr>\n",
       "      <th>M</th>\n",
       "      <td>1.65</td>\n",
       "      <td>-5.95</td>\n",
       "      <td>-1.56</td>\n",
       "    </tr>\n",
       "    <tr>\n",
       "      <th>MP</th>\n",
       "      <td>1.23</td>\n",
       "      <td>0.57</td>\n",
       "      <td>-2.84</td>\n",
       "    </tr>\n",
       "  </tbody>\n",
       "</table>\n",
       "</div>"
      ],
      "text/plain": [
       "       alla_styren_2006  alla_styren_2010  alla_styren_2014\n",
       "parti                                                      \n",
       "C                 -1.55              0.08              1.55\n",
       "KD                -1.40             -0.52              1.50\n",
       "L                 -0.16             -1.71             -0.13\n",
       "M                  1.65             -5.95             -1.56\n",
       "MP                 1.23              0.57             -2.84"
      ]
     },
     "execution_count": 55,
     "metadata": {},
     "output_type": "execute_result"
    }
   ],
   "source": [
    "efter_block = pd.DataFrame()\n",
    "for year in [2006,2010,2014]:\n",
    "    efter_block[f'alla_styren_{year}'] = alla_kommuner(res,block='A',mandatperiod=year)\n",
    "efter_block.to_excel('res/A_block.xlsx')\n",
    "efter_block"
   ]
  },
  {
   "cell_type": "code",
   "execution_count": 56,
   "metadata": {},
   "outputs": [],
   "source": [
    "efter_block = pd.DataFrame()\n",
    "for year in [2006,2010,2014]:\n",
    "    efter_block[f'alla_styren_{year}'] = alla_kommuner(res,block='BL',mandatperiod=year)\n",
    "efter_block.to_excel('res/BL_block.xlsx')"
   ]
  },
  {
   "cell_type": "code",
   "execution_count": 57,
   "metadata": {},
   "outputs": [
    {
     "data": {
      "text/html": [
       "<div>\n",
       "<style scoped>\n",
       "    .dataframe tbody tr th:only-of-type {\n",
       "        vertical-align: middle;\n",
       "    }\n",
       "\n",
       "    .dataframe tbody tr th {\n",
       "        vertical-align: top;\n",
       "    }\n",
       "\n",
       "    .dataframe thead th {\n",
       "        text-align: right;\n",
       "    }\n",
       "</style>\n",
       "<table border=\"1\" class=\"dataframe\">\n",
       "  <thead>\n",
       "    <tr style=\"text-align: right;\">\n",
       "      <th></th>\n",
       "      <th>alla_styren_2006</th>\n",
       "      <th>alla_styren_2010</th>\n",
       "      <th>alla_styren_2014</th>\n",
       "    </tr>\n",
       "    <tr>\n",
       "      <th>parti</th>\n",
       "      <th></th>\n",
       "      <th></th>\n",
       "      <th></th>\n",
       "    </tr>\n",
       "  </thead>\n",
       "  <tbody>\n",
       "    <tr>\n",
       "      <th>C</th>\n",
       "      <td>-2.39</td>\n",
       "      <td>-0.55</td>\n",
       "      <td>1.03</td>\n",
       "    </tr>\n",
       "    <tr>\n",
       "      <th>KD</th>\n",
       "      <td>-1.43</td>\n",
       "      <td>-1.03</td>\n",
       "      <td>1.18</td>\n",
       "    </tr>\n",
       "    <tr>\n",
       "      <th>L</th>\n",
       "      <td>-0.04</td>\n",
       "      <td>-2.10</td>\n",
       "      <td>0.22</td>\n",
       "    </tr>\n",
       "    <tr>\n",
       "      <th>M</th>\n",
       "      <td>1.66</td>\n",
       "      <td>-4.92</td>\n",
       "      <td>-1.07</td>\n",
       "    </tr>\n",
       "    <tr>\n",
       "      <th>MP</th>\n",
       "      <td>1.04</td>\n",
       "      <td>0.69</td>\n",
       "      <td>-2.60</td>\n",
       "    </tr>\n",
       "    <tr>\n",
       "      <th>S</th>\n",
       "      <td>-2.17</td>\n",
       "      <td>-1.65</td>\n",
       "      <td>-4.66</td>\n",
       "    </tr>\n",
       "    <tr>\n",
       "      <th>V</th>\n",
       "      <td>-2.60</td>\n",
       "      <td>0.16</td>\n",
       "      <td>0.27</td>\n",
       "    </tr>\n",
       "  </tbody>\n",
       "</table>\n",
       "</div>"
      ],
      "text/plain": [
       "       alla_styren_2006  alla_styren_2010  alla_styren_2014\n",
       "parti                                                      \n",
       "C                 -2.39             -0.55              1.03\n",
       "KD                -1.43             -1.03              1.18\n",
       "L                 -0.04             -2.10              0.22\n",
       "M                  1.66             -4.92             -1.07\n",
       "MP                 1.04              0.69             -2.60\n",
       "S                 -2.17             -1.65             -4.66\n",
       "V                 -2.60              0.16              0.27"
      ]
     },
     "execution_count": 57,
     "metadata": {},
     "output_type": "execute_result"
    }
   ],
   "source": [
    "efter_block"
   ]
  },
  {
   "cell_type": "code",
   "execution_count": 58,
   "metadata": {},
   "outputs": [],
   "source": [
    "efter_block = pd.DataFrame()\n",
    "for year in [2006,2010,2014]:\n",
    "    efter_block[f'S_styrda_kommuner_{year}'] = alla_kommuner(res,mandatperiod=year,procentenheter=True)"
   ]
  },
  {
   "cell_type": "code",
   "execution_count": 59,
   "metadata": {},
   "outputs": [
    {
     "data": {
      "text/html": [
       "<div>\n",
       "<style scoped>\n",
       "    .dataframe tbody tr th:only-of-type {\n",
       "        vertical-align: middle;\n",
       "    }\n",
       "\n",
       "    .dataframe tbody tr th {\n",
       "        vertical-align: top;\n",
       "    }\n",
       "\n",
       "    .dataframe thead th {\n",
       "        text-align: right;\n",
       "    }\n",
       "</style>\n",
       "<table border=\"1\" class=\"dataframe\">\n",
       "  <thead>\n",
       "    <tr style=\"text-align: right;\">\n",
       "      <th></th>\n",
       "      <th>S_styrda_kommuner_2006</th>\n",
       "      <th>S_styrda_kommuner_2010</th>\n",
       "      <th>S_styrda_kommuner_2014</th>\n",
       "    </tr>\n",
       "    <tr>\n",
       "      <th>parti</th>\n",
       "      <th></th>\n",
       "      <th></th>\n",
       "      <th></th>\n",
       "    </tr>\n",
       "  </thead>\n",
       "  <tbody>\n",
       "    <tr>\n",
       "      <th>C</th>\n",
       "      <td>-2.86</td>\n",
       "      <td>-1.12</td>\n",
       "      <td>0.87</td>\n",
       "    </tr>\n",
       "    <tr>\n",
       "      <th>L</th>\n",
       "      <td>0.54</td>\n",
       "      <td>-1.16</td>\n",
       "      <td>0.59</td>\n",
       "    </tr>\n",
       "    <tr>\n",
       "      <th>MP</th>\n",
       "      <td>1.27</td>\n",
       "      <td>0.78</td>\n",
       "      <td>-2.83</td>\n",
       "    </tr>\n",
       "  </tbody>\n",
       "</table>\n",
       "</div>"
      ],
      "text/plain": [
       "       S_styrda_kommuner_2006  S_styrda_kommuner_2010  S_styrda_kommuner_2014\n",
       "parti                                                                        \n",
       "C                       -2.86                   -1.12                    0.87\n",
       "L                        0.54                   -1.16                    0.59\n",
       "MP                       1.27                    0.78                   -2.83"
      ]
     },
     "execution_count": 59,
     "metadata": {},
     "output_type": "execute_result"
    }
   ],
   "source": [
    "results_CLS.to_excel('res/SCLMP_kommuner.xlsx')\n",
    "results_CLS"
   ]
  },
  {
   "cell_type": "code",
   "execution_count": 60,
   "metadata": {},
   "outputs": [
    {
     "data": {
      "text/html": [
       "<div>\n",
       "<style scoped>\n",
       "    .dataframe tbody tr th:only-of-type {\n",
       "        vertical-align: middle;\n",
       "    }\n",
       "\n",
       "    .dataframe tbody tr th {\n",
       "        vertical-align: top;\n",
       "    }\n",
       "\n",
       "    .dataframe thead th {\n",
       "        text-align: right;\n",
       "    }\n",
       "</style>\n",
       "<table border=\"1\" class=\"dataframe\">\n",
       "  <thead>\n",
       "    <tr style=\"text-align: right;\">\n",
       "      <th></th>\n",
       "      <th>alla_styren_2006</th>\n",
       "      <th>alla_styren_2010</th>\n",
       "      <th>alla_styren_2014</th>\n",
       "    </tr>\n",
       "    <tr>\n",
       "      <th>parti</th>\n",
       "      <th></th>\n",
       "      <th></th>\n",
       "      <th></th>\n",
       "    </tr>\n",
       "  </thead>\n",
       "  <tbody>\n",
       "    <tr>\n",
       "      <th>C</th>\n",
       "      <td>-1.62</td>\n",
       "      <td>0.03</td>\n",
       "      <td>1.34</td>\n",
       "    </tr>\n",
       "    <tr>\n",
       "      <th>KD</th>\n",
       "      <td>-1.39</td>\n",
       "      <td>-0.53</td>\n",
       "      <td>1.42</td>\n",
       "    </tr>\n",
       "    <tr>\n",
       "      <th>L</th>\n",
       "      <td>-0.15</td>\n",
       "      <td>-1.73</td>\n",
       "      <td>-0.03</td>\n",
       "    </tr>\n",
       "    <tr>\n",
       "      <th>M</th>\n",
       "      <td>1.66</td>\n",
       "      <td>-5.91</td>\n",
       "      <td>-1.45</td>\n",
       "    </tr>\n",
       "    <tr>\n",
       "      <th>MP</th>\n",
       "      <td>1.56</td>\n",
       "      <td>0.55</td>\n",
       "      <td>-3.47</td>\n",
       "    </tr>\n",
       "    <tr>\n",
       "      <th>S</th>\n",
       "      <td>-2.44</td>\n",
       "      <td>-2.99</td>\n",
       "      <td>-3.77</td>\n",
       "    </tr>\n",
       "    <tr>\n",
       "      <th>V</th>\n",
       "      <td>-0.81</td>\n",
       "      <td>1.14</td>\n",
       "      <td>1.72</td>\n",
       "    </tr>\n",
       "  </tbody>\n",
       "</table>\n",
       "</div>"
      ],
      "text/plain": [
       "       alla_styren_2006  alla_styren_2010  alla_styren_2014\n",
       "parti                                                      \n",
       "C                 -1.62              0.03              1.34\n",
       "KD                -1.39             -0.53              1.42\n",
       "L                 -0.15             -1.73             -0.03\n",
       "M                  1.66             -5.91             -1.45\n",
       "MP                 1.56              0.55             -3.47\n",
       "S                 -2.44             -2.99             -3.77\n",
       "V                 -0.81              1.14              1.72"
      ]
     },
     "execution_count": 60,
     "metadata": {},
     "output_type": "execute_result"
    }
   ],
   "source": [
    "resultat_styren.to_excel(\"res/alla_styren.xlsx\")\n",
    "resultat_styren"
   ]
  },
  {
   "cell_type": "code",
   "execution_count": null,
   "metadata": {},
   "outputs": [],
   "source": []
  },
  {
   "cell_type": "code",
   "execution_count": null,
   "metadata": {},
   "outputs": [],
   "source": []
  },
  {
   "cell_type": "code",
   "execution_count": null,
   "metadata": {},
   "outputs": [],
   "source": []
  },
  {
   "cell_type": "code",
   "execution_count": null,
   "metadata": {},
   "outputs": [],
   "source": []
  },
  {
   "cell_type": "code",
   "execution_count": null,
   "metadata": {},
   "outputs": [],
   "source": []
  }
 ],
 "metadata": {
  "kernelspec": {
   "display_name": "Python 3",
   "language": "python",
   "name": "python3"
  },
  "language_info": {
   "codemirror_mode": {
    "name": "ipython",
    "version": 3
   },
   "file_extension": ".py",
   "mimetype": "text/x-python",
   "name": "python",
   "nbconvert_exporter": "python",
   "pygments_lexer": "ipython3",
   "version": "3.7.2"
  }
 },
 "nbformat": 4,
 "nbformat_minor": 2
}
